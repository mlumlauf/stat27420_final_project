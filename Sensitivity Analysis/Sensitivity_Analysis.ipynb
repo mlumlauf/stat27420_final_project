{
  "cells": [
    {
      "cell_type": "markdown",
      "metadata": {
        "colab_type": "text",
        "id": "view-in-github"
      },
      "source": [
        "<a href=\"https://colab.research.google.com/github/vveitch/causality-tutorials/blob/main/Sensitivity_Analysis.ipynb\" target=\"_parent\"><img src=\"https://colab.research.google.com/assets/colab-badge.svg\" alt=\"Open In Colab\"/></a>"
      ]
    },
    {
      "cell_type": "markdown",
      "metadata": {
        "id": "QfZkNLUb4B-p"
      },
      "source": [
        "# Sensitivity Analysis Tutorial\n",
        "\n",
        "This tutorial gives a short example for how to assess sensitivity to unobserved confounding in causal estimation. We use the Austen plot method (https://arxiv.org/abs/2003.01747). "
      ]
    },
    {
      "cell_type": "code",
      "execution_count": 2,
      "metadata": {
        "colab": {
          "base_uri": "https://localhost:8080/"
        },
        "id": "1RrdIBTLQ9Ac",
        "outputId": "62c039df-51d7-4f31-a150-4b6a0e0f0b26"
      },
      "outputs": [
        {
          "name": "stdout",
          "output_type": "stream",
          "text": [
            "Requirement already satisfied: austen-plots in c:\\users\\35197\\anaconda3\\lib\\site-packages (0.1.0)\n",
            "Requirement already satisfied: pandas in c:\\users\\35197\\anaconda3\\lib\\site-packages (from austen-plots) (2.2.2)\n",
            "Requirement already satisfied: plotnine in c:\\users\\35197\\anaconda3\\lib\\site-packages (from austen-plots) (0.14.5)\n",
            "Requirement already satisfied: numpy in c:\\users\\35197\\anaconda3\\lib\\site-packages (from austen-plots) (1.26.4)\n",
            "Requirement already satisfied: scikit-learn in c:\\users\\35197\\anaconda3\\lib\\site-packages (from austen-plots) (1.5.1)\n",
            "Requirement already satisfied: scipy in c:\\users\\35197\\anaconda3\\lib\\site-packages (from austen-plots) (1.13.1)\n",
            "Requirement already satisfied: tqdm in c:\\users\\35197\\anaconda3\\lib\\site-packages (from austen-plots) (4.66.5)\n",
            "Requirement already satisfied: python-dateutil>=2.8.2 in c:\\users\\35197\\anaconda3\\lib\\site-packages (from pandas->austen-plots) (2.9.0.post0)\n",
            "Requirement already satisfied: pytz>=2020.1 in c:\\users\\35197\\anaconda3\\lib\\site-packages (from pandas->austen-plots) (2024.1)\n",
            "Requirement already satisfied: tzdata>=2022.7 in c:\\users\\35197\\anaconda3\\lib\\site-packages (from pandas->austen-plots) (2023.3)\n",
            "Requirement already satisfied: matplotlib>=3.8.0 in c:\\users\\35197\\anaconda3\\lib\\site-packages (from plotnine->austen-plots) (3.9.2)\n",
            "Requirement already satisfied: mizani~=0.13.0 in c:\\users\\35197\\anaconda3\\lib\\site-packages (from plotnine->austen-plots) (0.13.5)\n",
            "Requirement already satisfied: statsmodels>=0.14.0 in c:\\users\\35197\\anaconda3\\lib\\site-packages (from plotnine->austen-plots) (0.14.2)\n",
            "Requirement already satisfied: joblib>=1.2.0 in c:\\users\\35197\\anaconda3\\lib\\site-packages (from scikit-learn->austen-plots) (1.4.2)\n",
            "Requirement already satisfied: threadpoolctl>=3.1.0 in c:\\users\\35197\\anaconda3\\lib\\site-packages (from scikit-learn->austen-plots) (3.5.0)\n",
            "Requirement already satisfied: colorama in c:\\users\\35197\\anaconda3\\lib\\site-packages (from tqdm->austen-plots) (0.4.6)\n",
            "Requirement already satisfied: contourpy>=1.0.1 in c:\\users\\35197\\anaconda3\\lib\\site-packages (from matplotlib>=3.8.0->plotnine->austen-plots) (1.2.0)\n",
            "Requirement already satisfied: cycler>=0.10 in c:\\users\\35197\\anaconda3\\lib\\site-packages (from matplotlib>=3.8.0->plotnine->austen-plots) (0.11.0)\n",
            "Requirement already satisfied: fonttools>=4.22.0 in c:\\users\\35197\\anaconda3\\lib\\site-packages (from matplotlib>=3.8.0->plotnine->austen-plots) (4.51.0)\n",
            "Requirement already satisfied: kiwisolver>=1.3.1 in c:\\users\\35197\\anaconda3\\lib\\site-packages (from matplotlib>=3.8.0->plotnine->austen-plots) (1.4.4)\n",
            "Requirement already satisfied: packaging>=20.0 in c:\\users\\35197\\anaconda3\\lib\\site-packages (from matplotlib>=3.8.0->plotnine->austen-plots) (24.1)\n",
            "Requirement already satisfied: pillow>=8 in c:\\users\\35197\\anaconda3\\lib\\site-packages (from matplotlib>=3.8.0->plotnine->austen-plots) (10.4.0)\n",
            "Requirement already satisfied: pyparsing>=2.3.1 in c:\\users\\35197\\anaconda3\\lib\\site-packages (from matplotlib>=3.8.0->plotnine->austen-plots) (3.1.2)\n",
            "Requirement already satisfied: six>=1.5 in c:\\users\\35197\\anaconda3\\lib\\site-packages (from python-dateutil>=2.8.2->pandas->austen-plots) (1.16.0)\n",
            "Requirement already satisfied: patsy>=0.5.6 in c:\\users\\35197\\anaconda3\\lib\\site-packages (from statsmodels>=0.14.0->plotnine->austen-plots) (0.5.6)\n"
          ]
        }
      ],
      "source": [
        "!pip install austen-plots"
      ]
    },
    {
      "cell_type": "code",
      "execution_count": 3,
      "metadata": {
        "id": "dS2X3Bq1-fxE"
      },
      "outputs": [],
      "source": [
        "import numpy as np\n",
        "import pandas as pd\n",
        "import scipy as sp\n",
        "from sklearn import preprocessing\n",
        "from sklearn.ensemble import RandomForestClassifier, RandomForestRegressor, GradientBoostingRegressor, GradientBoostingClassifier\n",
        "from sklearn.linear_model import LogisticRegression\n",
        "from sklearn.model_selection import KFold, StratifiedKFold, train_test_split\n",
        "from sklearn.metrics import mean_squared_error, log_loss\n",
        "import sklearn\n",
        "import os\n",
        "import pathlib\n",
        "\n",
        "from austen_plots.AustenPlot import AustenPlot"
      ]
    },
    {
      "cell_type": "code",
      "execution_count": 4,
      "metadata": {
        "id": "zNsGKVyLSRxn"
      },
      "outputs": [],
      "source": [
        "RANDOM_SEED = 42\n",
        "np.random.seed(RANDOM_SEED)"
      ]
    },
    {
      "cell_type": "markdown",
      "metadata": {
        "id": "H0YG8hR8RRAP"
      },
      "source": [
        "# Data Loading and Initial Fit\n",
        "\n",
        "Load the diastolic blood pressure data and fit models for the propensity score and conditional expected outcome model, in the same way we'd do in a standard adjustment-based treatment effect estimation. For this tutorial, we'll use random forests for both models. \n",
        "\n",
        "This section doesn't contain anything special to sensitivity analysis, and can be safely skipped if you've already read the adjustment estimation tutorial."
      ]
    },
    {
      "cell_type": "markdown",
      "metadata": {
        "id": "yPbJeayiEs3u"
      },
      "source": [
        "##Load and Format  Observational Data"
      ]
    },
    {
      "cell_type": "code",
      "execution_count": 5,
      "metadata": {
        "id": "2AC9TPko-hbt"
      },
      "outputs": [],
      "source": [
        "main_data = pd.read_csv(\"merged_with_hosts.csv\")\n",
        "main_data_cleaned = main_data.dropna(subset=[\"yes\", \"host_race_black\", \"host_gender_M\", \"multiple_listings\", \"shared_property\", \"ten_reviews\", \"log_price\"])"
      ]
    },
    {
      "cell_type": "code",
      "execution_count": 6,
      "metadata": {
        "colab": {
          "base_uri": "https://localhost:8080/",
          "height": 223
        },
        "id": "-A1LX6-t-hZD",
        "outputId": "2f9def4f-1348-48d2-d518-b5b5235b6e42"
      },
      "outputs": [
        {
          "data": {
            "text/html": [
              "<div>\n",
              "<style scoped>\n",
              "    .dataframe tbody tr th:only-of-type {\n",
              "        vertical-align: middle;\n",
              "    }\n",
              "\n",
              "    .dataframe tbody tr th {\n",
              "        vertical-align: top;\n",
              "    }\n",
              "\n",
              "    .dataframe thead th {\n",
              "        text-align: right;\n",
              "    }\n",
              "</style>\n",
              "<table border=\"1\" class=\"dataframe\">\n",
              "  <thead>\n",
              "    <tr style=\"text-align: right;\">\n",
              "      <th></th>\n",
              "      <th>host_response</th>\n",
              "      <th>response_date</th>\n",
              "      <th>number_of_messages</th>\n",
              "      <th>automated_coding</th>\n",
              "      <th>latitude</th>\n",
              "      <th>longitude</th>\n",
              "      <th>bed_type</th>\n",
              "      <th>property_type</th>\n",
              "      <th>cancellation_policy</th>\n",
              "      <th>number_guests</th>\n",
              "      <th>...</th>\n",
              "      <th>baltimore</th>\n",
              "      <th>dallas</th>\n",
              "      <th>los_angeles</th>\n",
              "      <th>sl</th>\n",
              "      <th>dc</th>\n",
              "      <th>total_guests</th>\n",
              "      <th>raw_black</th>\n",
              "      <th>prop_black</th>\n",
              "      <th>any_black</th>\n",
              "      <th>past_guest_merge</th>\n",
              "    </tr>\n",
              "  </thead>\n",
              "  <tbody>\n",
              "    <tr>\n",
              "      <th>0</th>\n",
              "      <td>1</td>\n",
              "      <td>2015-07-19 08:26:17</td>\n",
              "      <td>2.0</td>\n",
              "      <td>1</td>\n",
              "      <td>34.0815</td>\n",
              "      <td>-118.2700</td>\n",
              "      <td>Real Bed</td>\n",
              "      <td>House</td>\n",
              "      <td>Flexible</td>\n",
              "      <td>3.0</td>\n",
              "      <td>...</td>\n",
              "      <td>0</td>\n",
              "      <td>0</td>\n",
              "      <td>1</td>\n",
              "      <td>0</td>\n",
              "      <td>0</td>\n",
              "      <td>11.0</td>\n",
              "      <td>0.0</td>\n",
              "      <td>0.000000</td>\n",
              "      <td>0.0</td>\n",
              "      <td>matched (3)</td>\n",
              "    </tr>\n",
              "    <tr>\n",
              "      <th>1</th>\n",
              "      <td>0</td>\n",
              "      <td>2015-07-14 14:13:39</td>\n",
              "      <td>NaN</td>\n",
              "      <td>1</td>\n",
              "      <td>38.9107</td>\n",
              "      <td>-77.0198</td>\n",
              "      <td>NaN</td>\n",
              "      <td>House</td>\n",
              "      <td>Moderate</td>\n",
              "      <td>2.0</td>\n",
              "      <td>...</td>\n",
              "      <td>0</td>\n",
              "      <td>0</td>\n",
              "      <td>0</td>\n",
              "      <td>0</td>\n",
              "      <td>1</td>\n",
              "      <td>167.0</td>\n",
              "      <td>0.0</td>\n",
              "      <td>0.000000</td>\n",
              "      <td>0.0</td>\n",
              "      <td>matched (3)</td>\n",
              "    </tr>\n",
              "    <tr>\n",
              "      <th>2</th>\n",
              "      <td>2</td>\n",
              "      <td>2015-07-20 16:24:08</td>\n",
              "      <td>2.0</td>\n",
              "      <td>0</td>\n",
              "      <td>34.0047</td>\n",
              "      <td>-118.4810</td>\n",
              "      <td>Pull-out Sofa</td>\n",
              "      <td>Apartment</td>\n",
              "      <td>Strict</td>\n",
              "      <td>1.0</td>\n",
              "      <td>...</td>\n",
              "      <td>0</td>\n",
              "      <td>0</td>\n",
              "      <td>1</td>\n",
              "      <td>0</td>\n",
              "      <td>0</td>\n",
              "      <td>19.0</td>\n",
              "      <td>0.0</td>\n",
              "      <td>0.000000</td>\n",
              "      <td>0.0</td>\n",
              "      <td>matched (3)</td>\n",
              "    </tr>\n",
              "    <tr>\n",
              "      <th>3</th>\n",
              "      <td>10</td>\n",
              "      <td>2015-07-20 06:47:38</td>\n",
              "      <td>NaN</td>\n",
              "      <td>0</td>\n",
              "      <td>34.0917</td>\n",
              "      <td>-118.2820</td>\n",
              "      <td>NaN</td>\n",
              "      <td>House</td>\n",
              "      <td>Strict</td>\n",
              "      <td>8.0</td>\n",
              "      <td>...</td>\n",
              "      <td>0</td>\n",
              "      <td>0</td>\n",
              "      <td>1</td>\n",
              "      <td>0</td>\n",
              "      <td>0</td>\n",
              "      <td>41.0</td>\n",
              "      <td>0.0</td>\n",
              "      <td>0.000000</td>\n",
              "      <td>0.0</td>\n",
              "      <td>matched (3)</td>\n",
              "    </tr>\n",
              "    <tr>\n",
              "      <th>5</th>\n",
              "      <td>4</td>\n",
              "      <td>2015-07-18 18:07:19</td>\n",
              "      <td>NaN</td>\n",
              "      <td>0</td>\n",
              "      <td>34.0809</td>\n",
              "      <td>-118.3670</td>\n",
              "      <td>NaN</td>\n",
              "      <td>Apartment</td>\n",
              "      <td>Strict</td>\n",
              "      <td>3.0</td>\n",
              "      <td>...</td>\n",
              "      <td>0</td>\n",
              "      <td>0</td>\n",
              "      <td>1</td>\n",
              "      <td>0</td>\n",
              "      <td>0</td>\n",
              "      <td>263.0</td>\n",
              "      <td>1.0</td>\n",
              "      <td>0.003802</td>\n",
              "      <td>1.0</td>\n",
              "      <td>matched (3)</td>\n",
              "    </tr>\n",
              "  </tbody>\n",
              "</table>\n",
              "<p>5 rows × 102 columns</p>\n",
              "</div>"
            ],
            "text/plain": [
              "   host_response        response_date  number_of_messages  automated_coding  \\\n",
              "0              1  2015-07-19 08:26:17                 2.0                 1   \n",
              "1              0  2015-07-14 14:13:39                 NaN                 1   \n",
              "2              2  2015-07-20 16:24:08                 2.0                 0   \n",
              "3             10  2015-07-20 06:47:38                 NaN                 0   \n",
              "5              4  2015-07-18 18:07:19                 NaN                 0   \n",
              "\n",
              "   latitude  longitude       bed_type property_type cancellation_policy  \\\n",
              "0   34.0815  -118.2700       Real Bed         House            Flexible   \n",
              "1   38.9107   -77.0198            NaN         House            Moderate   \n",
              "2   34.0047  -118.4810  Pull-out Sofa     Apartment              Strict   \n",
              "3   34.0917  -118.2820            NaN         House              Strict   \n",
              "5   34.0809  -118.3670            NaN     Apartment              Strict   \n",
              "\n",
              "   number_guests  ...  baltimore  dallas  los_angeles  sl  dc total_guests  \\\n",
              "0            3.0  ...          0       0            1   0   0         11.0   \n",
              "1            2.0  ...          0       0            0   0   1        167.0   \n",
              "2            1.0  ...          0       0            1   0   0         19.0   \n",
              "3            8.0  ...          0       0            1   0   0         41.0   \n",
              "5            3.0  ...          0       0            1   0   0        263.0   \n",
              "\n",
              "  raw_black prop_black  any_black  past_guest_merge  \n",
              "0       0.0   0.000000        0.0       matched (3)  \n",
              "1       0.0   0.000000        0.0       matched (3)  \n",
              "2       0.0   0.000000        0.0       matched (3)  \n",
              "3       0.0   0.000000        0.0       matched (3)  \n",
              "5       1.0   0.003802        1.0       matched (3)  \n",
              "\n",
              "[5 rows x 102 columns]"
            ]
          },
          "execution_count": 6,
          "metadata": {},
          "output_type": "execute_result"
        }
      ],
      "source": [
        "main_data_cleaned.head()"
      ]
    },
    {
      "cell_type": "code",
      "execution_count": 7,
      "metadata": {
        "id": "fW3FdK8rJNHM"
      },
      "outputs": [
        {
          "name": "stderr",
          "output_type": "stream",
          "text": [
            "C:\\Users\\35197\\AppData\\Local\\Temp\\ipykernel_25580\\789345582.py:3: SettingWithCopyWarning: \n",
            "A value is trying to be set on a copy of a slice from a DataFrame.\n",
            "Try using .loc[row_indexer,col_indexer] = value instead\n",
            "\n",
            "See the caveats in the documentation: https://pandas.pydata.org/pandas-docs/stable/user_guide/indexing.html#returning-a-view-versus-a-copy\n"
          ]
        }
      ],
      "source": [
        "# scale continuous covariates\n",
        "cont_vars = [\"log_price\"]\n",
        "main_data_cleaned[cont_vars] = preprocessing.scale(main_data_cleaned[cont_vars])\n"
      ]
    },
    {
      "cell_type": "code",
      "execution_count": 8,
      "metadata": {
        "id": "APOqpHmrOGzo"
      },
      "outputs": [],
      "source": [
        "# The same set confounders that the original paper's model includes\n",
        "confounders = main_data_cleaned[[\"host_race_black\", \"host_gender_M\", \"multiple_listings\", \"shared_property\", \"ten_reviews\", \"log_price\"]]\n",
        "outcome = main_data_cleaned[\"yes\"]\n",
        "treatment = main_data_cleaned[\"guest_black\"]"
      ]
    },
    {
      "cell_type": "markdown",
      "metadata": {
        "id": "C576dWRsa3ad"
      },
      "source": [
        "## Specify Nuisance Function Models\n",
        "\n",
        "The next step is to specify models for the conditional expected outcome and propensity score"
      ]
    },
    {
      "cell_type": "code",
      "execution_count": 9,
      "metadata": {
        "colab": {
          "base_uri": "https://localhost:8080/"
        },
        "id": "qyOhSZRQRb8W",
        "outputId": "905a03a6-e8c0-4572-e3e0-6f195b6409ad"
      },
      "outputs": [
        {
          "name": "stdout",
          "output_type": "stream",
          "text": [
            "Test CE of fit model 0.6809041743953469\n",
            "Test CE of no-covariate model 0.6917462955382059\n"
          ]
        }
      ],
      "source": [
        "# specify a model for the conditional expected outcome\n",
        "\n",
        "# make a function that returns a sklearn model for later use in k-folding\n",
        "def make_Q_model():\n",
        "  return RandomForestClassifier(n_estimators=100, max_depth=5)\n",
        "Q_model = make_Q_model()\n",
        "\n",
        "# Sanity check that chosen model actually improves test error\n",
        "# A real analysis should give substantial attention to model selection and validation \n",
        "\n",
        "X_w_treatment = confounders.copy()\n",
        "X_w_treatment[\"treatment\"] = treatment\n",
        "\n",
        "X_train, X_test, y_train, y_test = train_test_split(X_w_treatment, outcome, test_size=0.2)\n",
        "Q_model.fit(X_train, y_train)\n",
        "y_pred = Q_model.predict_proba(X_test)[:,1]\n",
        "\n",
        "test_ce=log_loss(y_test, y_pred)\n",
        "print(f\"Test CE of fit model {test_ce}\") \n",
        "baseline_ce=log_loss(y_test, y_train.mean()*np.ones_like(y_test))\n",
        "print(f\"Test CE of no-covariate model {baseline_ce}\")"
      ]
    },
    {
      "cell_type": "markdown",
      "metadata": {
        "id": "2RkvV_4_dFWo"
      },
      "source": [
        "## Use cross fitting to get get predicted outcomes and propensity scores for each unit"
      ]
    },
    {
      "cell_type": "code",
      "execution_count": 10,
      "metadata": {
        "id": "KA0AsEGJ_X3b"
      },
      "outputs": [],
      "source": [
        "# helper functions to implement the cross fitting\n",
        "\n",
        "def outcome_k_fold_fit_and_predict(make_model, X:pd.DataFrame, y:np.array, A:np.array, n_splits:int, output_type:str):\n",
        "    \"\"\"\n",
        "    Implements K fold cross-fitting for the model predicting the outcome Y. \n",
        "    That is, \n",
        "    1. Split data into K folds\n",
        "    2. For each fold j, the model is fit on the other K-1 folds\n",
        "    3. The fitted model is used to make predictions for each data point in fold j\n",
        "    Returns two arrays containing the predictions for all units untreated, all units treated  \n",
        "\n",
        "    Args:\n",
        "    model: function that returns sklearn model (that implements fit and either predict_prob or predict)\n",
        "    X: dataframe of variables to adjust for\n",
        "    y: array of outcomes\n",
        "    A: array of treatments\n",
        "    n_splits: number of splits to use\n",
        "    output_type: type of outcome, \"binary\" or \"continuous\"\n",
        "\n",
        "    \"\"\"\n",
        "    predictions0 = np.full_like(A, np.nan, dtype=float)\n",
        "    predictions1 = np.full_like(y, np.nan, dtype=float)\n",
        "    if output_type == 'binary':\n",
        "      kf = StratifiedKFold(n_splits=n_splits, shuffle=True, random_state=RANDOM_SEED)\n",
        "    elif output_type == 'continuous':\n",
        "      kf = KFold(n_splits=n_splits, shuffle=True, random_state=RANDOM_SEED)\n",
        "\n",
        "    # include the treatment as input feature\n",
        "    X_w_treatment = X.copy()\n",
        "    X_w_treatment[\"A\"] = A\n",
        "\n",
        "    # for predicting effect under treatment / control status for each data point \n",
        "    X0 = X_w_treatment.copy()\n",
        "    X0[\"A\"] = 0\n",
        "    X1 = X_w_treatment.copy()\n",
        "    X1[\"A\"] = 1\n",
        "\n",
        "    \n",
        "    for train_index, test_index in kf.split(X_w_treatment, y):\n",
        "      X_train = X_w_treatment.iloc[train_index]\n",
        "      y_train = y.iloc[train_index]\n",
        "      q = make_model()\n",
        "      q.fit(X_train, y_train)\n",
        "\n",
        "      if output_type =='binary':\n",
        "        predictions0[test_index] = q.predict_proba(X0.iloc[test_index])[:, 1]\n",
        "        predictions1[test_index] = q.predict_proba(X1.iloc[test_index])[:, 1]\n",
        "      elif output_type == 'continuous':\n",
        "        predictions0[test_index] = q.predict(X0.iloc[test_index])\n",
        "        predictions1[test_index] = q.predict(X1.iloc[test_index])\n",
        "\n",
        "    assert np.isnan(predictions0).sum() == 0\n",
        "    assert np.isnan(predictions1).sum() == 0\n",
        "    return predictions0, predictions1"
      ]
    },
    {
      "cell_type": "code",
      "execution_count": 11,
      "metadata": {
        "id": "wVcE6pRQeMNf"
      },
      "outputs": [],
      "source": [
        "# Because it is a randomized experiment. Treatment is randomly assigned and not confounded by X. Therefore, we can estimate the propensity score as g(x) = 0.5\n",
        "g = 0.5"
      ]
    },
    {
      "cell_type": "code",
      "execution_count": 12,
      "metadata": {
        "id": "GLEHlLLdWSh9"
      },
      "outputs": [],
      "source": [
        "Q0,Q1=outcome_k_fold_fit_and_predict(make_Q_model, X=confounders, y=outcome, A=treatment, n_splits=10, output_type=\"binary\")"
      ]
    },
    {
      "cell_type": "code",
      "execution_count": 13,
      "metadata": {
        "colab": {
          "base_uri": "https://localhost:8080/",
          "height": 203
        },
        "id": "_NVCV0q0g8wQ",
        "outputId": "9f4fb865-3b5f-4e46-f7a3-c343b1924e9e"
      },
      "outputs": [
        {
          "data": {
            "text/html": [
              "<div>\n",
              "<style scoped>\n",
              "    .dataframe tbody tr th:only-of-type {\n",
              "        vertical-align: middle;\n",
              "    }\n",
              "\n",
              "    .dataframe tbody tr th {\n",
              "        vertical-align: top;\n",
              "    }\n",
              "\n",
              "    .dataframe thead th {\n",
              "        text-align: right;\n",
              "    }\n",
              "</style>\n",
              "<table border=\"1\" class=\"dataframe\">\n",
              "  <thead>\n",
              "    <tr style=\"text-align: right;\">\n",
              "      <th></th>\n",
              "      <th>g</th>\n",
              "      <th>Q0</th>\n",
              "      <th>Q1</th>\n",
              "      <th>A</th>\n",
              "      <th>Y</th>\n",
              "    </tr>\n",
              "  </thead>\n",
              "  <tbody>\n",
              "    <tr>\n",
              "      <th>0</th>\n",
              "      <td>0.5</td>\n",
              "      <td>0.416509</td>\n",
              "      <td>0.321200</td>\n",
              "      <td>0</td>\n",
              "      <td>1.0</td>\n",
              "    </tr>\n",
              "    <tr>\n",
              "      <th>1</th>\n",
              "      <td>0.5</td>\n",
              "      <td>0.602086</td>\n",
              "      <td>0.516874</td>\n",
              "      <td>0</td>\n",
              "      <td>0.0</td>\n",
              "    </tr>\n",
              "    <tr>\n",
              "      <th>2</th>\n",
              "      <td>0.5</td>\n",
              "      <td>0.571131</td>\n",
              "      <td>0.523646</td>\n",
              "      <td>0</td>\n",
              "      <td>0.0</td>\n",
              "    </tr>\n",
              "    <tr>\n",
              "      <th>3</th>\n",
              "      <td>0.5</td>\n",
              "      <td>0.475294</td>\n",
              "      <td>0.405418</td>\n",
              "      <td>1</td>\n",
              "      <td>0.0</td>\n",
              "    </tr>\n",
              "    <tr>\n",
              "      <th>5</th>\n",
              "      <td>0.5</td>\n",
              "      <td>0.548834</td>\n",
              "      <td>0.483744</td>\n",
              "      <td>0</td>\n",
              "      <td>1.0</td>\n",
              "    </tr>\n",
              "  </tbody>\n",
              "</table>\n",
              "</div>"
            ],
            "text/plain": [
              "     g        Q0        Q1  A    Y\n",
              "0  0.5  0.416509  0.321200  0  1.0\n",
              "1  0.5  0.602086  0.516874  0  0.0\n",
              "2  0.5  0.571131  0.523646  0  0.0\n",
              "3  0.5  0.475294  0.405418  1  0.0\n",
              "5  0.5  0.548834  0.483744  0  1.0"
            ]
          },
          "execution_count": 13,
          "metadata": {},
          "output_type": "execute_result"
        }
      ],
      "source": [
        "data_and_nuisance_estimates = pd.DataFrame({'g': g, 'Q0': Q0, 'Q1': Q1, 'A': treatment, 'Y': outcome})\n",
        "data_and_nuisance_estimates.head()"
      ]
    },
    {
      "cell_type": "markdown",
      "metadata": {
        "id": "VNhM7URdgzQB"
      },
      "source": [
        "## Combine predicted values and data into estimate of ATE"
      ]
    },
    {
      "cell_type": "code",
      "execution_count": 14,
      "metadata": {
        "id": "O_F5r0SSkzzK"
      },
      "outputs": [],
      "source": [
        "def ate_aiptw(Q0, Q1, g, A, Y, prob_t=None):\n",
        "  \"\"\"\n",
        "  # Double ML estimator for the ATE\n",
        "  \"\"\"\n",
        "\n",
        "  tau_hat = (Q1 - Q0 + A*(Y-Q1)/g - (1-A)*(Y-Q0)/(1-g)).mean()\n",
        "  \n",
        "  scores = Q1 - Q0 + A*(Y-Q1)/g - (1-A)*(Y-Q0)/(1-g) - tau_hat\n",
        "  n = Y.shape[0] # number of observations\n",
        "  std_hat = np.std(scores) / np.sqrt(n)\n",
        "\n",
        "  return tau_hat, std_hat\n"
      ]
    },
    {
      "cell_type": "code",
      "execution_count": 15,
      "metadata": {
        "colab": {
          "base_uri": "https://localhost:8080/"
        },
        "id": "SjDj0F9Bm9uq",
        "outputId": "e3a2f168-1bf8-47fd-f046-dd05390bf0d5"
      },
      "outputs": [
        {
          "name": "stdout",
          "output_type": "stream",
          "text": [
            "The estimate is -0.08762009141834762 pm 0.024373805443655194\n"
          ]
        }
      ],
      "source": [
        "tau_hat, std_hat = ate_aiptw(**data_and_nuisance_estimates)\n",
        "print(f\"The estimate is {tau_hat} pm {1.96*std_hat}\")"
      ]
    },
    {
      "cell_type": "markdown",
      "metadata": {
        "id": "L_GUa-5vMmL4"
      },
      "source": [
        "# Sensitivity Analysis\n",
        "\n",
        "We found an average treatment effect of diastolic blood pressure medication of about 2, significant at the 0.95 level. We'd now conduct some analysis to decide how sensitive this conclusions is to possible unobserved confounding."
      ]
    },
    {
      "cell_type": "code",
      "execution_count": 16,
      "metadata": {
        "id": "zEv_RlkUNQZ9"
      },
      "outputs": [],
      "source": [
        "# the first step is to choose a level of bias that would undermine the qualitative conclusion of the study\n",
        "# we'll go with the nominal effect\n",
        "target_bias = 0.08 # note: bias is specified as an absolute number"
      ]
    },
    {
      "cell_type": "markdown",
      "metadata": {
        "id": "bDeSqyvvN3mg"
      },
      "source": [
        "## Compute influence strength of covariates\n",
        "Our task is to assess whether it's plausible that an unobserved confounder could be strong enough to induce a bias of 2 or more. To make that easier, we'd like to know how strong the observed confounders are. Austen plots computes these reference strengths by seeing how much model performance degrades when the covariates are removed. Accordingly, we refit the models with each (group of) reference covariate removed.  "
      ]
    },
    {
      "cell_type": "code",
      "execution_count": 17,
      "metadata": {
        "id": "b_51ei-JOIrn"
      },
      "outputs": [],
      "source": [
        "# First, lets define the groups of covariates we'll measure the strength of.\n",
        "# Note: it's important to group the covariates into meaningful groups, because strength is measured conditional on all remaining covariates\n",
        "# E.g., if we remove only \"black\" (and not \"hispanic, white\") then we will measure no effect, because we can infer the removed variable from the remaining ones\n",
        "\n",
        "covariate_groups = {\n",
        "    'host': [\"host_race_black\", \"host_gender_M\", \"multiple_listings\"],\n",
        "    'listing': [\"shared_property\", \"ten_reviews\", \"log_price\"]\n",
        "    }"
      ]
    },
    {
      "cell_type": "code",
      "execution_count": 18,
      "metadata": {
        "id": "eLskfBqCQlwZ"
      },
      "outputs": [],
      "source": [
        "# For each covariate group, refit the models without using that group\n",
        "nuisance_estimates = {}\n",
        "for group, covs in covariate_groups.items():\n",
        "  remaining_confounders = confounders.drop(columns=covs)\n",
        "\n",
        "  g = 0.5\n",
        "  Q0, Q1 = outcome_k_fold_fit_and_predict(make_Q_model, X=remaining_confounders, y=outcome, A=treatment, n_splits=5, output_type=\"binary\")\n",
        "\n",
        "  data_and_nuisance_estimates = pd.DataFrame({'g': g, 'Q0': Q0, 'Q1': Q1, 'A': treatment, 'Y': outcome})\n",
        "  nuisance_estimates[group] = data_and_nuisance_estimates\n"
      ]
    },
    {
      "cell_type": "markdown",
      "metadata": {
        "id": "73aTyanbTihM"
      },
      "source": [
        "## Save computed estimates as CSVs\n",
        "The Austen plot code expects the nuisance function estimates to be provided as csvs with columns 'g', 'Q', 't', 'y'"
      ]
    },
    {
      "cell_type": "code",
      "execution_count": 19,
      "metadata": {
        "id": "Am4bdBMGXhqr"
      },
      "outputs": [],
      "source": [
        "data_and_nuisance_path = 'data_and_nuisance_estimates.csv'\n",
        "covariate_dir_path = 'covariates/'"
      ]
    },
    {
      "cell_type": "code",
      "execution_count": 20,
      "metadata": {
        "id": "YJ-QU3gXSqiz"
      },
      "outputs": [],
      "source": [
        "def _convert_to_austen_format(nuisance_estimate_df: pd.DataFrame):\n",
        "  austen_df = pd.DataFrame()\n",
        "  austen_df['y']=nuisance_estimate_df['Y']\n",
        "  austen_df['t']=nuisance_estimate_df['A']\n",
        "  austen_df['g']=nuisance_estimate_df['g']\n",
        "  A = nuisance_estimate_df['A']\n",
        "  austen_df['Q']=A*nuisance_estimate_df['Q1'] + (1-A)*nuisance_estimate_df['Q0'] # use Q1 when A=1, and Q0 when A=0\n",
        "\n",
        "  return austen_df"
      ]
    },
    {
      "cell_type": "code",
      "execution_count": 21,
      "metadata": {
        "id": "31BWqKXmVAQr"
      },
      "outputs": [],
      "source": [
        "austen_data_and_nuisance = _convert_to_austen_format(data_and_nuisance_estimates)\n",
        "austen_data_and_nuisance.to_csv(data_and_nuisance_path, index=False)\n",
        "\n",
        "pathlib.Path(covariate_dir_path).mkdir(exist_ok=True)\n",
        "for group, nuisance_estimate in nuisance_estimates.items():\n",
        "  austen_nuisance_estimate = _convert_to_austen_format(nuisance_estimate)\n",
        "  austen_nuisance_estimate.to_csv(os.path.join(covariate_dir_path,group+\".csv\"), index=False)"
      ]
    },
    {
      "cell_type": "markdown",
      "metadata": {
        "id": "C84zSBeIVe0L"
      },
      "source": [
        "## Make plots"
      ]
    },
    {
      "cell_type": "code",
      "execution_count": 22,
      "metadata": {
        "id": "2C0cixtvVhmD"
      },
      "outputs": [],
      "source": [
        "ap = AustenPlot(data_and_nuisance_path, covariate_dir_path)"
      ]
    },
    {
      "cell_type": "code",
      "execution_count": 23,
      "metadata": {
        "colab": {
          "base_uri": "https://localhost:8080/"
        },
        "id": "JFgN5L6YW0oF",
        "outputId": "9bb60caf-daef-4ba3-8ab2-8a4f6d3b43eb"
      },
      "outputs": [
        {
          "name": "stdout",
          "output_type": "stream",
          "text": [
            "Fitting main dataset\n"
          ]
        }
      ],
      "source": [
        "p, plot_coords, variable_coords = ap.fit(bias=target_bias) # recall we set target_bias=-0.08"
      ]
    },
    {
      "cell_type": "code",
      "execution_count": 24,
      "metadata": {
        "colab": {
          "base_uri": "https://localhost:8080/",
          "height": 396
        },
        "id": "lfPaV4IDckdS",
        "outputId": "56a1085c-cc7d-45e7-d61b-832125c05857"
      },
      "outputs": [
        {
          "data": {
            "image/png": "[encoded data removed]"
          },
          "metadata": {
            "image/png": {
              "height": 350,
              "width": 350
            }
          },
          "output_type": "display_data"
        }
      ],
      "source": [
        "p"
      ]
    }
  ],
  "metadata": {
    "colab": {
      "collapsed_sections": [],
      "include_colab_link": true,
      "name": "Sensitivity_Analysis.ipynb",
      "provenance": []
    },
    "kernelspec": {
      "display_name": "base",
      "language": "python",
      "name": "python3"
    },
    "language_info": {
      "codemirror_mode": {
        "name": "ipython",
        "version": 3
      },
      "file_extension": ".py",
      "mimetype": "text/x-python",
      "name": "python",
      "nbconvert_exporter": "python",
      "pygments_lexer": "ipython3",
      "version": "3.12.7"
    }
  },
  "nbformat": 4,
  "nbformat_minor": 0
}
