{
 "cells": [
  {
   "cell_type": "markdown",
   "id": "a4895f7a",
   "metadata": {},
   "source": [
    "# Data Cleaning\n",
    "\n",
    "**Date**: 5/11/2025\n",
    "\n",
    "**Summary**: This file contains all data cleaning for this project. The structure is as follows:\n",
    "1. Library Imports and Data Loading\n",
    "2. Cleaning main_data\n",
    "3. Cleaning survey_data\n",
    "4. Merging main_data and survey_data with additional cleaning\n",
    "5. Additionally merging with hosts_data with additional cleaning"
   ]
  },
  {
   "cell_type": "markdown",
   "id": "9afbe2a5",
   "metadata": {},
   "source": [
    "## Library Imports and Data Loading"
   ]
  },
  {
   "cell_type": "code",
   "execution_count": 153,
   "id": "4738c50f",
   "metadata": {},
   "outputs": [],
   "source": [
    "# Import libaries\n",
    "import pandas as pd\n",
    "import numpy as np"
   ]
  },
  {
   "cell_type": "code",
   "execution_count": 154,
   "id": "0d1d2eed",
   "metadata": {},
   "outputs": [],
   "source": [
    "# Import datasets\n",
    "main_data = pd.read_csv(\"raw_data/main_data.csv\", header=None)\n",
    "hosts_data = pd.read_stata(\"raw_data/hosts.dta\")\n",
    "survey_data = pd.read_excel(\"raw_data/name_survey_results.xlsx\")"
   ]
  },
  {
   "cell_type": "markdown",
   "id": "724fe681",
   "metadata": {},
   "source": [
    "## Clean `main_data`"
   ]
  },
  {
   "cell_type": "code",
   "execution_count": 155,
   "id": "e0ff673f",
   "metadata": {},
   "outputs": [],
   "source": [
    "# Rename main_data columns\n",
    "main_data.columns = [\n",
    "    \"host_response\",\n",
    "    \"response_date\",\n",
    "    \"number_of_messages\",\n",
    "    \"automated_coding\",\n",
    "    \"latitude\",\n",
    "    \"longitude\",\n",
    "    \"bed_type\",\n",
    "    \"property_type\",\n",
    "    \"cancellation_policy\",\n",
    "    \"number_guests\",\n",
    "    \"bedrooms\",\n",
    "    \"bathrooms\",\n",
    "    \"cleaning_fee\",\n",
    "    \"price\",\n",
    "    \"apt_rating\",\n",
    "    \"property_setup\",\n",
    "    \"city\",\n",
    "    \"date_sent\",\n",
    "    \"listing_down\",\n",
    "    \"number_of_listings\",\n",
    "    \"number_of_reviews\",\n",
    "    \"member_since\",\n",
    "    \"verified_id\",\n",
    "    \"host_race\",\n",
    "    \"super_host\",\n",
    "    \"host_gender\",\n",
    "    \"host_age\",\n",
    "    \"host_gender_1\",\n",
    "    \"host_gender_2\",\n",
    "    \"host_gender_3\",\n",
    "    \"host_race_1\",\n",
    "    \"host_race_2\",\n",
    "    \"host_race_3\",\n",
    "    \"guest_first_name\",\n",
    "    \"guest_last_name\",\n",
    "    \"guest_race\",\n",
    "    \"guest_gender\",\n",
    "    \"guest_id\",\n",
    "    \"population\",\n",
    "    \"whites\",\n",
    "    \"blacks\",\n",
    "    \"asians\",\n",
    "    \"hispanics\",\n",
    "    \"available_september\",\n",
    "    \"up_not_available_september\",\n",
    "    \"september_price\",\n",
    "    \"census_tract\",\n",
    "    \"host_id\",\n",
    "    \"new_number_of_listings\",\n",
    "]"
   ]
  },
  {
   "cell_type": "code",
   "execution_count": 156,
   "id": "c9227dd2",
   "metadata": {},
   "outputs": [],
   "source": [
    "# Convert all columns to strings for cleaning\n",
    "for col in main_data.columns:\n",
    "    main_data[col] = main_data[col].astype(str)\n",
    "\n",
    "# Convert all missing values to \".\"\n",
    "variables_to_clean = main_data.loc[:, \"response_date\":\"september_price\"].columns.tolist()\n",
    "for col in variables_to_clean:\n",
    "    main_data[col] = main_data[col].replace([\"\\\\N\", \"Null\", \"-1\"], \".\")"
   ]
  },
  {
   "cell_type": "code",
   "execution_count": 157,
   "id": "bb0dc20e",
   "metadata": {},
   "outputs": [],
   "source": [
    "# Convert numeric columns back into numeric form (from string)\n",
    "columns_to_destring = [\n",
    "    \"host_response\", \n",
    "    \"number_of_messages\", \n",
    "    \"automated_coding\", \n",
    "    \"latitude\", \n",
    "    \"longitude\",\n",
    "    \"number_guests\", \n",
    "    \"bedrooms\", \n",
    "    \"bathrooms\", \n",
    "    \"cleaning_fee\", \n",
    "    \"price\", \n",
    "    \"apt_rating\", \n",
    "    \"listing_down\",\n",
    "    \"number_of_listings\", \n",
    "    \"number_of_reviews\", \n",
    "    \"verified_id\", \n",
    "    \"super_host\", \n",
    "    \"guest_id\",\n",
    "    \"population\", \n",
    "    \"whites\", \n",
    "    \"blacks\", \n",
    "    \"hispanics\", \n",
    "    \"asians\", \n",
    "    \"available_september\",\n",
    "    \"up_not_available_september\", \n",
    "    \"september_price\", \n",
    "    \"host_id\", \n",
    "    \"new_number_of_listings\"\n",
    "]\n",
    "\n",
    "# Convert these columns to numeric\n",
    "for col in columns_to_destring:\n",
    "    main_data[col] = pd.to_numeric(main_data[col], errors=\"coerce\")\n"
   ]
  },
  {
   "cell_type": "code",
   "execution_count": 158,
   "id": "14e0ef5e",
   "metadata": {},
   "outputs": [],
   "source": [
    "# Convert missing values to NaN before converting to datetime\n",
    "main_data['response_date'] = main_data['response_date'].replace('.', np.nan)\n",
    "main_data['date_sent'] = main_data['date_sent'].replace('.', np.nan)\n",
    "\n",
    "# Convert date columns to datetime format\n",
    "main_data[\"response_date_stata\"] = pd.to_datetime(\n",
    "    main_data[\"response_date\"],\n",
    "    errors=\"coerce\"\n",
    ")\n",
    "main_data[\"date_sent_stata\"] = pd.to_datetime(\n",
    "    main_data[\"date_sent\"],\n",
    "    errors=\"coerce\"\n",
    ")"
   ]
  },
  {
   "cell_type": "code",
   "execution_count": 159,
   "id": "3178d717",
   "metadata": {},
   "outputs": [],
   "source": [
    "# Create binary variables for race and gender\n",
    "main_data[\"guest_black\"] = (main_data[\"guest_race\"].str.lower() == \"black\").astype(int)\n",
    "main_data[\"guest_white\"] = (main_data[\"guest_black\"] == 0).astype(int)\n",
    "main_data[\"guest_female\"] = (main_data[\"guest_gender\"].str.lower() == \"female\").astype(int)\n",
    "main_data[\"guest_male\"] = (main_data[\"guest_gender\"].str.lower() == \"male\").astype(int)"
   ]
  },
  {
   "cell_type": "code",
   "execution_count": 160,
   "id": "7eda7315",
   "metadata": {},
   "outputs": [],
   "source": [
    "# Create a combined guest_name * city variable for clustered standard errors\n",
    "main_data[\"name_by_city\"] = main_data[\"guest_first_name\"] + main_data[\"city\"]"
   ]
  },
  {
   "cell_type": "code",
   "execution_count": 161,
   "id": "7ad6340d",
   "metadata": {},
   "outputs": [],
   "source": [
    "# Sort by guest_first_name\n",
    "main_data_sorted = main_data.sort_values(by=\"guest_first_name\")"
   ]
  },
  {
   "cell_type": "code",
   "execution_count": 162,
   "id": "ba2375f9",
   "metadata": {},
   "outputs": [],
   "source": [
    "# Export for analysis\n",
    "main_data_sorted.to_csv(\"clean_data/main_data_cleaned.csv\", index=False)"
   ]
  },
  {
   "cell_type": "markdown",
   "id": "9d40bd99",
   "metadata": {},
   "source": [
    "## Clean `survey_data`"
   ]
  },
  {
   "cell_type": "code",
   "execution_count": 163,
   "id": "96cc88b9",
   "metadata": {},
   "outputs": [],
   "source": [
    "# Sort by guest_first_name\n",
    "survey_data_sorted = survey_data.sort_values(by=\"guest_first_name\")"
   ]
  },
  {
   "cell_type": "code",
   "execution_count": 164,
   "id": "7dc0c784",
   "metadata": {},
   "outputs": [],
   "source": [
    "# Export for analysis\n",
    "survey_data_sorted.to_csv(\"clean_data/survey_data_cleaned.csv\", index=False)"
   ]
  },
  {
   "cell_type": "markdown",
   "id": "07385254",
   "metadata": {},
   "source": [
    "## Merging main_data and survey_data with additional cleaning"
   ]
  },
  {
   "cell_type": "code",
   "execution_count": 165,
   "id": "ce549a35",
   "metadata": {},
   "outputs": [],
   "source": [
    "# Merge dataframes\n",
    "merged_data = pd.merge(\n",
    "    main_data_sorted, \n",
    "    survey_data_sorted, \n",
    "    on=\"guest_first_name\", \n",
    "    how=\"left\",\n",
    "    indicator=\"survey_merge\"\n",
    ")"
   ]
  },
  {
   "cell_type": "code",
   "execution_count": 166,
   "id": "d2915dff",
   "metadata": {},
   "outputs": [],
   "source": [
    "# Convert the indicator to match Stata's output\n",
    "merged_data[\"survey_merge\"] = merged_data[\"survey_merge\"].map({\n",
    "    \"left_only\": 1,  # Only in main dataset\n",
    "    \"right_only\": 2, # Only in survey dataset\n",
    "    \"both\": 3        # In both datasets\n",
    "})"
   ]
  },
  {
   "cell_type": "code",
   "execution_count": 167,
   "id": "040b100f",
   "metadata": {},
   "outputs": [],
   "source": [
    "# Adjust continuous race score (0 to 1, not 1 to 2)\n",
    "merged_data[\"guest_race_continuous\"] = merged_data[\"guest_race_continuous\"] - 1"
   ]
  },
  {
   "cell_type": "code",
   "execution_count": 168,
   "id": "a8ab5ac3",
   "metadata": {},
   "outputs": [],
   "source": [
    "# Create binary variables for host race\n",
    "for race in [\"black\", \"white\", \"hisp\", \"asian\", \"mult\"]:\n",
    "    column_name = f\"host_race_{race}\"\n",
    "    merged_data[column_name] = 0\n",
    "    merged_data.loc[merged_data[\"host_race\"] == race, column_name] = 1"
   ]
  },
  {
   "cell_type": "code",
   "execution_count": 169,
   "id": "afb3b44b",
   "metadata": {},
   "outputs": [],
   "source": [
    "# Create binary variables for host gender\n",
    "for gender in [\"F\", \"FF\", \"M\", \"MM\", \"MF\"]:\n",
    "    merged_data[f\"host_gender_{gender}\"] = (merged_data[\"host_gender\"] == gender).astype(int)\n",
    "\n",
    "# Create host_gender_same_sex variable\n",
    "merged_data[\"host_gender_same_sex\"] = ((merged_data[\"host_gender_MM\"] == 1) | \n",
    "                                       (merged_data[\"host_gender_FF\"] == 1)).astype(int)"
   ]
  },
  {
   "cell_type": "code",
   "execution_count": 170,
   "id": "284a57db",
   "metadata": {},
   "outputs": [],
   "source": [
    "# Create categorical host age variable\n",
    "merged_data[\"host_age_cat\"] = np.nan\n",
    "\n",
    "# Map different age groups to categorical values\n",
    "young_ages = [\"young\", \"young/UU\", \"UU/young\", \"young/NA\", \"NA/young\"]\n",
    "middle_young_ages = [\"middle/young\", \"young/middle\"]\n",
    "middle_ages = [\"middle\", \"middle/UU\", \"UU/middle\", \"middle/NA\", \"NA/middle\"]\n",
    "middle_old_ages = [\"middle/old\", \"old/middle\"]\n",
    "old_ages = [\"old\", \"old/UU\", \"UU/old\", \"old/NA\", \"NA/old\"]\n",
    "\n",
    "# Apply categorization\n",
    "merged_data.loc[merged_data[\"host_age\"].isin(young_ages), \"host_age_cat\"] = 0\n",
    "merged_data.loc[merged_data[\"host_age\"].isin(middle_young_ages), \"host_age_cat\"] = 1\n",
    "merged_data.loc[merged_data[\"host_age\"].isin(middle_ages), \"host_age_cat\"] = 2\n",
    "merged_data.loc[merged_data[\"host_age\"].isin(middle_old_ages), \"host_age_cat\"] = 3\n",
    "merged_data.loc[merged_data[\"host_age\"].isin(old_ages), \"host_age_cat\"] = 4"
   ]
  },
  {
   "cell_type": "code",
   "execution_count": 171,
   "id": "9a5c819b",
   "metadata": {},
   "outputs": [],
   "source": [
    "# Create binary variables for other host/property characteristics\n",
    "merged_data[\"ten_reviews\"] = (merged_data[\"number_of_reviews\"] >= 10).astype(int)\n",
    "merged_data[\"five_star_property\"] = (merged_data[\"apt_rating\"] == 5).astype(int)\n",
    "merged_data[\"multiple_listings\"] = (merged_data[\"number_of_listings\"] > 1).astype(int)\n",
    "merged_data[\"shared_property\"] = ((merged_data[\"property_setup\"] == \"Private Room\") | \n",
    "                                 (merged_data[\"property_setup\"] == \"Shared Room\")).astype(int)\n",
    "merged_data[\"shared_bathroom\"] = ((merged_data[\"shared_property\"] == 1) & \n",
    "                                 (merged_data[\"bathrooms\"] < 1.5)).astype(int)\n",
    "merged_data[\"has_cleaning_fee\"] = (~merged_data[\"cleaning_fee\"].isna()).astype(int)\n",
    "merged_data[\"strict_cancellation\"] = (merged_data[\"cancellation_policy\"] == \"Strict\").astype(int)\n",
    "merged_data[\"young\"] = (merged_data[\"host_age_cat\"] == 0).astype(int)\n",
    "merged_data[\"middle\"] = ((merged_data[\"host_age_cat\"] == 1) | \n",
    "                        (merged_data[\"host_age_cat\"] == 2)).astype(int)\n",
    "merged_data[\"old\"] = ((merged_data[\"host_age_cat\"] == 3) | \n",
    "                     (merged_data[\"host_age_cat\"] == 4)).astype(int)\n"
   ]
  },
  {
   "cell_type": "code",
   "execution_count": 172,
   "id": "85a1ff2e",
   "metadata": {},
   "outputs": [],
   "source": [
    "# Replace all nan and .'s with np.nan\n",
    "merged_data = merged_data.replace([\"nan\", \".\"], np.NaN)"
   ]
  },
  {
   "cell_type": "code",
   "execution_count": 173,
   "id": "e3e229f7",
   "metadata": {},
   "outputs": [],
   "source": [
    "# Calculate price statistics\n",
    "top_decile_price = merged_data[\"price\"].quantile(0.9)\n",
    "median_price = merged_data[\"price\"].median()\n",
    "\n",
    "merged_data[\"pricey\"] = (merged_data[\"price\"] >= top_decile_price).astype(int)\n",
    "merged_data[\"price_median\"] = (merged_data[\"price\"] > median_price).astype(int)\n",
    "merged_data[\"log_price\"] = np.log(merged_data[\"price\"])"
   ]
  },
  {
   "cell_type": "code",
   "execution_count": 174,
   "id": "dae61541",
   "metadata": {},
   "outputs": [],
   "source": [
    "# Calculate population proportions\n",
    "merged_data[\"white_proportion\"] = merged_data[\"whites\"] / merged_data[\"population\"]\n",
    "merged_data[\"black_proportion\"] = merged_data[\"blacks\"] / merged_data[\"population\"]\n",
    "merged_data[\"asian_proportion\"] = merged_data[\"asians\"] / merged_data[\"population\"]\n",
    "merged_data[\"hispanic_proportion\"] = merged_data[\"hispanics\"] / merged_data[\"population\"]"
   ]
  },
  {
   "cell_type": "code",
   "execution_count": 175,
   "id": "a8d455ca",
   "metadata": {},
   "outputs": [
    {
     "name": "stderr",
     "output_type": "stream",
     "text": [
      "/Users/mayaumlauf/opt/anaconda3/lib/python3.9/site-packages/pandas/core/arraylike.py:399: RuntimeWarning: divide by zero encountered in log\n",
      "  result = getattr(ufunc, method)(*inputs, **kwargs)\n"
     ]
    }
   ],
   "source": [
    "# Calculate listings per census tract (group by census tract and count listings)\n",
    "tract_counts = merged_data.groupby(\"census_tract\")[\"latitude\"].count().reset_index()\n",
    "tract_counts.columns = [\"census_tract\", \"tract_listings\"]\n",
    "\n",
    "# Merge back to main dataframe\n",
    "merged_data = pd.merge(merged_data, tract_counts, on=\"census_tract\", how=\"left\")\n",
    "merged_data[\"log_tract_listings\"] = np.log(merged_data[\"tract_listings\"])"
   ]
  },
  {
   "cell_type": "code",
   "execution_count": 176,
   "id": "412353a9",
   "metadata": {},
   "outputs": [],
   "source": [
    "# Create labeled host response variables\n",
    "host_response_labels = {\n",
    "    0: \"No or unavailable\",\n",
    "    1: \"Yes\",\n",
    "    2: \"Request for more info (Can you verify? How many people?)\",\n",
    "    3: \"No, unless you verify\",\n",
    "    4: \"Yes, if you verify/give more info\",\n",
    "    5: \"Offers a different place\",\n",
    "    6: \"Offers Lower Price If You Book Now\",\n",
    "    7: \"Asks for higher price\",\n",
    "    8: \"Yes if stay is extended\",\n",
    "    9: \"Check back later for definitive answer\",\n",
    "    10: \"I will get back to you\",\n",
    "    11: \"Unsure right now\",\n",
    "    12: \"Only used for events\",\n",
    "    13: \"Confused (our date error)\",\n",
    "    14: \"Message not sent\",\n",
    "    -1: \"No response\"\n",
    "}\n",
    "\n",
    "# Create simplified host response\n",
    "merged_data[\"simplified_host_response\"] = np.nan\n",
    "\n",
    "# Map various host responses to simplified categories\n",
    "response_mapping = {\n",
    "    1: 1,  # Yes\n",
    "    4: 2,  # Yes, but requests more info\n",
    "    6: 3,  # Yes, with lower price if booked now\n",
    "    8: 4,  # Yes, if guest extends stay\n",
    "    5: 5,  # Yes, but in different property\n",
    "    7: 6,  # Yes, at a higher price\n",
    "    2: 7,  # Requests more information\n",
    "    -1: 9, # No response\n",
    "    3: 10, # No, without more information\n",
    "    0: 11  # No\n",
    "}\n",
    "\n",
    "# Apply the mapping for values 0-11\n",
    "for original, simplified in response_mapping.items():\n",
    "    merged_data.loc[merged_data[\"host_response\"] == original, \"simplified_host_response\"] = simplified\n",
    "\n",
    "# Set responses 9-11 to category 8\n",
    "merged_data.loc[(merged_data[\"host_response\"] >= 9) & \n",
    "               (merged_data[\"host_response\"] <= 11), \"simplified_host_response\"] = 8\n",
    "\n",
    "# Set responses 12-14 to NaN\n",
    "merged_data.loc[(merged_data[\"host_response\"] >= 12) & \n",
    "               (merged_data[\"host_response\"] <= 14), \"simplified_host_response\"] = np.nan\n",
    "\n",
    "# Create even more simplified response variable for Figure 2\n",
    "merged_data[\"graph_bins\"] = np.nan\n",
    "\n",
    "# Map simplified responses to graph bins\n",
    "merged_data.loc[merged_data[\"simplified_host_response\"] == 1, \"graph_bins\"] = 1  # Yes\n",
    "merged_data.loc[(merged_data[\"simplified_host_response\"] >= 2) & \n",
    "               (merged_data[\"simplified_host_response\"] <= 6), \"graph_bins\"] = 2  # Conditional Yes\n",
    "merged_data.loc[merged_data[\"simplified_host_response\"] == 9, \"graph_bins\"] = 3  # No Response\n",
    "merged_data.loc[(merged_data[\"simplified_host_response\"] == 7) | \n",
    "               (merged_data[\"simplified_host_response\"] == 8) | \n",
    "               (merged_data[\"simplified_host_response\"] == 10), \"graph_bins\"] = 4  # Conditional No\n",
    "merged_data.loc[merged_data[\"simplified_host_response\"] == 11, \"graph_bins\"] = 5  # No\n",
    "\n",
    "# Create binary yes/no response variable\n",
    "merged_data[\"yes\"] = np.nan\n",
    "merged_data.loc[(merged_data[\"host_response\"] == 1) | \n",
    "               (merged_data[\"host_response\"] == 4) | \n",
    "               (merged_data[\"host_response\"] == 6), \"yes\"] = 1  # Yes responses\n",
    "               \n",
    "merged_data.loc[(merged_data[\"host_response\"] == 0) | \n",
    "               (merged_data[\"host_response\"] == -1) | \n",
    "               (merged_data[\"host_response\"] == 2) | \n",
    "               (merged_data[\"host_response\"] == 3) | \n",
    "               ((merged_data[\"host_response\"] > 6) & \n",
    "                (merged_data[\"host_response\"] < 13)), \"yes\"] = 0  # No responses"
   ]
  },
  {
   "cell_type": "code",
   "execution_count": 177,
   "id": "9af02e38",
   "metadata": {},
   "outputs": [],
   "source": [
    "# Remove Tampa and Atlanta\n",
    "merged_data = merged_data[~merged_data[\"city\"].isin([\"Tampa\", \"Atlanta\"])]"
   ]
  },
  {
   "cell_type": "code",
   "execution_count": 178,
   "id": "3c66f171",
   "metadata": {},
   "outputs": [],
   "source": [
    "# Create city indicators\n",
    "merged_data[\"baltimore\"] = (merged_data[\"city\"] == \"Baltimore\").astype(int)\n",
    "merged_data[\"dallas\"] = (merged_data[\"city\"] == \"Dallas\").astype(int)\n",
    "merged_data[\"los_angeles\"] = (merged_data[\"city\"] == \"Los-Angeles\").astype(int)\n",
    "merged_data[\"sl\"] = (merged_data[\"city\"] == \"St-Louis\").astype(int)\n",
    "merged_data[\"dc\"] = (merged_data[\"city\"] == \"Washington\").astype(int)"
   ]
  },
  {
   "cell_type": "code",
   "execution_count": 179,
   "id": "47a2178c",
   "metadata": {},
   "outputs": [],
   "source": [
    "# Sort by host\n",
    "merged_data = merged_data.sort_values(by=\"host_id\")\n",
    "\n",
    "# Export for analysis (merged/clean main_data and survey_data)\n",
    "merged_data.to_csv(\"clean_data/merged_main_survey_data.csv\", index=False)"
   ]
  },
  {
   "cell_type": "markdown",
   "id": "abb2d6e9",
   "metadata": {},
   "source": [
    "## Additionally merging with `hosts_data` with additional cleaning"
   ]
  },
  {
   "cell_type": "code",
   "execution_count": 180,
   "id": "256ebde3",
   "metadata": {},
   "outputs": [],
   "source": [
    "# Merge with hosts data\n",
    "merged_with_hosts = pd.merge(merged_data, hosts_data, on=\"host_id\", how=\"left\", indicator=True)\n",
    "merged_with_hosts = merged_with_hosts[merged_with_hosts[\"_merge\"] != \"right_only\"]\n",
    "merged_with_hosts = merged_with_hosts.drop(columns=[\"_merge\"])"
   ]
  },
  {
   "cell_type": "code",
   "execution_count": 181,
   "id": "9b1d6dac",
   "metadata": {},
   "outputs": [],
   "source": [
    "# Export for analysis (merged/clean main_data, survey_data, and hosts_data)\n",
    "merged_with_hosts.to_csv(\"clean_data/merged_with_hosts.csv\", index=False)"
   ]
  }
 ],
 "metadata": {
  "kernelspec": {
   "display_name": "base",
   "language": "python",
   "name": "python3"
  },
  "language_info": {
   "codemirror_mode": {
    "name": "ipython",
    "version": 3
   },
   "file_extension": ".py",
   "mimetype": "text/x-python",
   "name": "python",
   "nbconvert_exporter": "python",
   "pygments_lexer": "ipython3",
   "version": "3.9.12"
  }
 },
 "nbformat": 4,
 "nbformat_minor": 5
}
